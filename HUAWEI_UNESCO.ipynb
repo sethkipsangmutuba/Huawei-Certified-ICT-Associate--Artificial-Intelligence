{
  "nbformat": 4,
  "nbformat_minor": 0,
  "metadata": {
    "colab": {
      "provenance": [],
      "authorship_tag": "ABX9TyOMCoJZsiswUoPhoqDNB1me",
      "include_colab_link": true
    },
    "kernelspec": {
      "name": "python3",
      "display_name": "Python 3"
    },
    "language_info": {
      "name": "python"
    }
  },
  "cells": [
    {
      "cell_type": "markdown",
      "metadata": {
        "id": "view-in-github",
        "colab_type": "text"
      },
      "source": [
        "<a href=\"https://colab.research.google.com/github/sethkipsangmutuba/Huawei-Certified-ICT-Associate--Artificial-Intelligence/blob/Deeplearning/HUAWEI_UNESCO.ipynb\" target=\"_parent\"><img src=\"https://colab.research.google.com/assets/colab-badge.svg\" alt=\"Open In Colab\"/></a>"
      ]
    },
    {
      "cell_type": "markdown",
      "source": [
        "\n",
        "\n",
        "![UNESCO HUAWEI.webp](data:image/webp;base64,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)\n",
        "\n",
        "[link text](https://www.unesco.org/en/articles/unesco-and-huawei-2024-training-artificial-intelligence-technology-university-lecturers-eastern#:~:text=In%20order%20to%20advance%20the,instructor%20led%20training%20sessions%2C%20Kenya.)"
      ],
      "metadata": {
        "id": "zIsX9yEC57n3"
      }
    },
    {
      "cell_type": "markdown",
      "source": [
        "**HCIA-AI CERTIFICATION DAILY EXERCISE: PYTHON BASICS**\n",
        "1) Check the version of pandas and numpy installed using the following commands:"
      ],
      "metadata": {
        "id": "2TV_ghl-NeUQ"
      }
    },
    {
      "cell_type": "code",
      "source": [
        "import numpy\n",
        "print(numpy.__version__)  # numpy version\n",
        "\n",
        "import pandas as pd\n",
        "print(pd.__version__)  # pandas version\n"
      ],
      "metadata": {
        "colab": {
          "base_uri": "https://localhost:8080/"
        },
        "id": "7rUmnOAV5w8j",
        "outputId": "42e05a63-6722-4056-c9f0-b6bb4f6f8833"
      },
      "execution_count": 1,
      "outputs": [
        {
          "output_type": "stream",
          "name": "stdout",
          "text": [
            "1.26.4\n",
            "2.1.4\n"
          ]
        }
      ]
    },
    {
      "cell_type": "markdown",
      "source": [
        "2) Write a program to print 'Hello HCIA PDTP-Huawei Team’\n"
      ],
      "metadata": {
        "id": "Zw4rNetE6Q5H"
      }
    },
    {
      "cell_type": "code",
      "source": [
        "# Print the message\n",
        "print(\"Hello HCIA PDTP-Huawei Team\")\n"
      ],
      "metadata": {
        "colab": {
          "base_uri": "https://localhost:8080/"
        },
        "id": "g9Dsz1ed6WNn",
        "outputId": "12cc8fff-ff45-42b4-c60a-bd0f2c1beb61"
      },
      "execution_count": 2,
      "outputs": [
        {
          "output_type": "stream",
          "name": "stdout",
          "text": [
            "Hello HCIA PDTP-Huawei Team\n"
          ]
        }
      ]
    },
    {
      "cell_type": "markdown",
      "source": [
        "3) Write a program to define two variables, calculate their sum and display the results"
      ],
      "metadata": {
        "id": "ydsaLAE66eat"
      }
    },
    {
      "cell_type": "code",
      "source": [
        "# Define two variables\n",
        "num1 = 10\n",
        "num2 = 5\n",
        "\n",
        "# Calculate the sum\n",
        "sum_result = num1 + num2\n",
        "\n",
        "# Display the result\n",
        "print(\"The sum of\", num1, \"and\", num2, \"is:\", sum_result)\n"
      ],
      "metadata": {
        "colab": {
          "base_uri": "https://localhost:8080/"
        },
        "id": "154KFovQ6kg1",
        "outputId": "2da08038-e009-4665-bc6f-7a268edae24b"
      },
      "execution_count": 3,
      "outputs": [
        {
          "output_type": "stream",
          "name": "stdout",
          "text": [
            "The sum of 10 and 5 is: 15\n"
          ]
        }
      ]
    },
    {
      "cell_type": "markdown",
      "source": [
        "4)\n",
        "a) Write a program to define a tuple that contains only one element."
      ],
      "metadata": {
        "id": "M4Fl7nJG6slx"
      }
    },
    {
      "cell_type": "code",
      "source": [
        "# Define a tuple with only one element\n",
        "single_element_tuple = (42,)  # You can replace 42 with any value\n",
        "\n",
        "# Display the tuple\n",
        "print(single_element_tuple)\n"
      ],
      "metadata": {
        "colab": {
          "base_uri": "https://localhost:8080/"
        },
        "id": "mceOhUyv6zuQ",
        "outputId": "7afef5a7-9e1b-477f-f252-8e29eada04fc"
      },
      "execution_count": 4,
      "outputs": [
        {
          "output_type": "stream",
          "name": "stdout",
          "text": [
            "(42,)\n"
          ]
        }
      ]
    },
    {
      "cell_type": "markdown",
      "source": [
        "b) Write a program to define a tuple and then use the 'for loop' to print all the elements."
      ],
      "metadata": {
        "id": "RvwqTYEp68EU"
      }
    },
    {
      "cell_type": "code",
      "source": [
        "# Define a tuple with multiple elements\n",
        "my_tuple = (1, 2, 3, 4, 5)\n",
        "\n",
        "# Use a for loop to print all the elements in the tuple\n",
        "for element in my_tuple:\n",
        "    print(element)"
      ],
      "metadata": {
        "colab": {
          "base_uri": "https://localhost:8080/"
        },
        "id": "weAxjdaV7BhN",
        "outputId": "a15631ad-abd2-4264-ac4e-b1aaeb1c1a1f"
      },
      "execution_count": 6,
      "outputs": [
        {
          "output_type": "stream",
          "name": "stdout",
          "text": [
            "1\n",
            "2\n",
            "3\n",
            "4\n",
            "5\n"
          ]
        }
      ]
    },
    {
      "cell_type": "markdown",
      "source": [
        "5) Write code to create a Python dictionary (the dict type) and print out the details. Add two\n",
        "entries to the dictionary: Associate the key ‘name’ with the value ‘Reagan’, and associate the\n",
        "key ‘phone’ with ‘+254 722 222333’"
      ],
      "metadata": {
        "id": "aSVI5lQW7LJV"
      }
    },
    {
      "cell_type": "code",
      "source": [
        "# Create an empty dictionary\n",
        "my_dict = {}\n",
        "\n",
        "# Add entries to the dictionary\n",
        "my_dict['name'] = 'Reagan'\n",
        "my_dict['phone'] = '+254 722 222333'\n",
        "\n",
        "# Print out the details of the dictionary\n",
        "print(my_dict)\n"
      ],
      "metadata": {
        "colab": {
          "base_uri": "https://localhost:8080/"
        },
        "id": "2pDQc6nm7WRm",
        "outputId": "295a0420-4aa6-4230-88d5-494c4725972e"
      },
      "execution_count": 7,
      "outputs": [
        {
          "output_type": "stream",
          "name": "stdout",
          "text": [
            "{'name': 'Reagan', 'phone': '+254 722 222333'}\n"
          ]
        }
      ]
    },
    {
      "cell_type": "markdown",
      "source": [
        "6)\n",
        "a) Define a function to do Multiplication, such as Mul(8,6),and it output 42."
      ],
      "metadata": {
        "id": "cNFZZlFb7dBs"
      }
    },
    {
      "cell_type": "code",
      "source": [
        "# Define a function to perform multiplication\n",
        "def Mul(a, b):\n",
        "    return a * b\n",
        "\n",
        "# Call the function with the values 8 and 6\n",
        "result = Mul(8, 6)\n",
        "\n",
        "# Print the result\n",
        "print(\"The result of Mul(8, 6) is:\", result)\n"
      ],
      "metadata": {
        "colab": {
          "base_uri": "https://localhost:8080/"
        },
        "id": "e3gziwv27yYt",
        "outputId": "922131db-2147-489b-eccd-85e16a1b3f69"
      },
      "execution_count": 8,
      "outputs": [
        {
          "output_type": "stream",
          "name": "stdout",
          "text": [
            "The result of Mul(8, 6) is: 48\n"
          ]
        }
      ]
    },
    {
      "cell_type": "markdown",
      "source": [
        "b) Complete the function definition so it returns the square of the product of the parameters,\n",
        "so sqrProd(2, 5) returns (2*5)*(2*5) = 100.\n",
        "def sqrProd(x, y):\n"
      ],
      "metadata": {
        "id": "Yt8f45xE7j_l"
      }
    },
    {
      "cell_type": "code",
      "source": [
        "# Define the function to return the square of the product of the parameters\n",
        "def sqrProd(x, y):\n",
        "    product = x * y      # Calculate the product\n",
        "    squared_product = product ** 2  # Square the product\n",
        "    return squared_product  # Return the squared product\n",
        "\n",
        "# Example usage\n",
        "result = sqrProd(2, 5)\n",
        "print(\"The result of sqrProd(2, 5) is:\", result)\n"
      ],
      "metadata": {
        "colab": {
          "base_uri": "https://localhost:8080/"
        },
        "id": "ohPbkYIi8F8c",
        "outputId": "34754749-c854-4c2f-d75d-1dc6b90dbfe5"
      },
      "execution_count": 9,
      "outputs": [
        {
          "output_type": "stream",
          "name": "stdout",
          "text": [
            "The result of sqrProd(2, 5) is: 100\n"
          ]
        }
      ]
    },
    {
      "cell_type": "markdown",
      "source": [
        "7) Import numpy and then:\n",
        "a) Use numpy to define an array, the shape of it is (5,5) and all elements of it is 0."
      ],
      "metadata": {
        "id": "kTS4cBRm8K-8"
      }
    },
    {
      "cell_type": "code",
      "source": [
        "import numpy as np\n",
        "\n",
        "# Define a 5x5 array with all elements as 0\n",
        "array_5x5 = np.zeros((5, 5))\n",
        "\n",
        "# Print the array to verify\n",
        "print(\"5x5 array with all elements as 0:\")\n",
        "print(array_5x5)\n"
      ],
      "metadata": {
        "colab": {
          "base_uri": "https://localhost:8080/"
        },
        "id": "q2zDfX748hLd",
        "outputId": "c1ad23a9-432f-4252-d13b-7b24855646a3"
      },
      "execution_count": 10,
      "outputs": [
        {
          "output_type": "stream",
          "name": "stdout",
          "text": [
            "5x5 array with all elements as 0:\n",
            "[[0. 0. 0. 0. 0.]\n",
            " [0. 0. 0. 0. 0.]\n",
            " [0. 0. 0. 0. 0.]\n",
            " [0. 0. 0. 0. 0.]\n",
            " [0. 0. 0. 0. 0.]]\n"
          ]
        }
      ]
    },
    {
      "cell_type": "markdown",
      "source": [
        "b) Create a 3x3 matrix with values ranging from 0 to 8\n"
      ],
      "metadata": {
        "id": "x2FPS1cS8mFs"
      }
    },
    {
      "cell_type": "code",
      "source": [
        "import numpy as np\n",
        "\n",
        "# Create a 3x3 matrix with values ranging from 0 to 8\n",
        "matrix_3x3 = np.arange(9).reshape(3, 3)\n",
        "\n",
        "# Print the matrix to verify\n",
        "print(\"3x3 matrix with values ranging from 0 to 8:\")\n",
        "print(matrix_3x3)\n"
      ],
      "metadata": {
        "colab": {
          "base_uri": "https://localhost:8080/"
        },
        "id": "bh0ym3W48r6z",
        "outputId": "d2af102b-0d5c-4664-e835-5dcd53efbf8d"
      },
      "execution_count": 11,
      "outputs": [
        {
          "output_type": "stream",
          "name": "stdout",
          "text": [
            "3x3 matrix with values ranging from 0 to 8:\n",
            "[[0 1 2]\n",
            " [3 4 5]\n",
            " [6 7 8]]\n"
          ]
        }
      ]
    },
    {
      "cell_type": "markdown",
      "source": [
        "c) Find indices of non-zero elements from [1,2,0,0,4,0]\n"
      ],
      "metadata": {
        "id": "snSaOHQX8xBr"
      }
    },
    {
      "cell_type": "code",
      "source": [
        "import numpy as np\n",
        "\n",
        "# Define the array\n",
        "array = np.array([1, 2, 0, 0, 4, 0])\n",
        "\n",
        "# Find indices of non-zero elements\n",
        "non_zero_indices = np.nonzero(array)\n",
        "\n",
        "# Print the indices of non-zero elements\n",
        "print(\"Indices of non-zero elements:\")\n",
        "print(non_zero_indices[0])  # non_zero_indices returns a tuple; [0] accesses the first element\n"
      ],
      "metadata": {
        "colab": {
          "base_uri": "https://localhost:8080/"
        },
        "id": "FeC0_6Bg82SL",
        "outputId": "10625e2e-92aa-4f04-9f4f-16be82606bd6"
      },
      "execution_count": 12,
      "outputs": [
        {
          "output_type": "stream",
          "name": "stdout",
          "text": [
            "Indices of non-zero elements:\n",
            "[0 1 4]\n"
          ]
        }
      ]
    },
    {
      "cell_type": "markdown",
      "source": [
        "d) Create a 10x10 array with random values and find the minimum and maximum values"
      ],
      "metadata": {
        "id": "bPcJzS9r89a6"
      }
    },
    {
      "cell_type": "code",
      "source": [
        "import numpy as np\n",
        "\n",
        "# Create a 10x10 array with random values\n",
        "random_array_10x10 = np.random.rand(10, 10)\n",
        "\n",
        "# Find the minimum value\n",
        "min_value = np.min(random_array_10x10)\n",
        "\n",
        "# Find the maximum value\n",
        "max_value = np.max(random_array_10x10)\n",
        "\n",
        "# Print the array and the minimum and maximum values\n",
        "print(\"10x10 array with random values:\")\n",
        "print(random_array_10x10)\n",
        "print(\"Minimum value:\", min_value)\n",
        "print(\"Maximum value:\", max_value)\n"
      ],
      "metadata": {
        "colab": {
          "base_uri": "https://localhost:8080/"
        },
        "id": "MRFAy16x9DIb",
        "outputId": "df52e0ca-91e9-495a-8e3c-178e61ecc685"
      },
      "execution_count": 13,
      "outputs": [
        {
          "output_type": "stream",
          "name": "stdout",
          "text": [
            "10x10 array with random values:\n",
            "[[0.26814258 0.62784623 0.02112633 0.86604513 0.62095371 0.20152941\n",
            "  0.87784913 0.58015009 0.84713373 0.20916816]\n",
            " [0.60545287 0.36971024 0.06014136 0.81423243 0.48718055 0.4034368\n",
            "  0.71493547 0.96315466 0.04795123 0.89370871]\n",
            " [0.37187089 0.61167821 0.0903529  0.04810977 0.72233113 0.48732582\n",
            "  0.69869024 0.61788467 0.10083694 0.82488117]\n",
            " [0.79424703 0.64983631 0.5955651  0.38073831 0.14969758 0.9381945\n",
            "  0.29119379 0.34861652 0.38055397 0.90258697]\n",
            " [0.85620217 0.90155211 0.08213094 0.69131974 0.14160288 0.11075169\n",
            "  0.43990842 0.24991476 0.31419332 0.47348003]\n",
            " [0.47744227 0.30281774 0.81152364 0.2469316  0.28301078 0.32671419\n",
            "  0.49683766 0.17583434 0.38430532 0.79590429]\n",
            " [0.96950344 0.69620299 0.09860052 0.15820631 0.44630052 0.66279653\n",
            "  0.18763215 0.85784127 0.79822864 0.53598611]\n",
            " [0.15518167 0.93934568 0.64387381 0.48039648 0.39943766 0.38810149\n",
            "  0.34932502 0.88089768 0.45139305 0.36549985]\n",
            " [0.15220325 0.68257987 0.47879626 0.51582214 0.28005668 0.63911194\n",
            "  0.78000999 0.35503082 0.59807531 0.31995237]\n",
            " [0.69884711 0.1180335  0.10100232 0.6322609  0.47627505 0.35396524\n",
            "  0.83980478 0.70042389 0.05069322 0.71664352]]\n",
            "Minimum value: 0.021126325986784655\n",
            "Maximum value: 0.9695034398591569\n"
          ]
        }
      ]
    },
    {
      "cell_type": "markdown",
      "source": [
        "e) Create a random vector of size 30 and find the mean value"
      ],
      "metadata": {
        "id": "PwCpDV_N9HpU"
      }
    },
    {
      "cell_type": "code",
      "source": [
        "import numpy as np\n",
        "\n",
        "# Create a random vector of size 30\n",
        "random_vector_30 = np.random.rand(30)\n",
        "\n",
        "# Find the mean value of the vector\n",
        "mean_value = np.mean(random_vector_30)\n",
        "\n",
        "# Print the vector and the mean value\n",
        "print(\"Random vector of size 30:\")\n",
        "print(random_vector_30)\n",
        "print(\"Mean value:\", mean_value)\n"
      ],
      "metadata": {
        "colab": {
          "base_uri": "https://localhost:8080/"
        },
        "id": "iofB8eKL9Tub",
        "outputId": "b804acad-8178-41a2-e56d-9b929b097e5a"
      },
      "execution_count": 14,
      "outputs": [
        {
          "output_type": "stream",
          "name": "stdout",
          "text": [
            "Random vector of size 30:\n",
            "[0.43689727 0.29953512 0.80194542 0.08428181 0.33080685 0.69885915\n",
            " 0.38798735 0.05984563 0.80016612 0.55876952 0.69408937 0.13854119\n",
            " 0.18706383 0.28188396 0.81281342 0.80764823 0.85472306 0.16944464\n",
            " 0.23855272 0.47038123 0.65391049 0.09271031 0.22686623 0.07642654\n",
            " 0.54638592 0.66306889 0.43702899 0.17750102 0.12030839 0.96583985]\n",
            "Mean value: 0.4358094177887248\n"
          ]
        }
      ]
    },
    {
      "cell_type": "markdown",
      "source": [
        "8) Write a Python program that prompts the user for two numbers, reads them in, and prints out\n",
        "the product, labeled appropriately."
      ],
      "metadata": {
        "id": "hQUk6CY29YW0"
      }
    },
    {
      "cell_type": "code",
      "source": [
        "# Prompt the user for the first number\n",
        "num1 = float(input(\"Enter the first number: \"))\n",
        "\n",
        "# Prompt the user for the second number\n",
        "num2 = float(input(\"Enter the second number: \"))\n",
        "\n",
        "# Calculate the product of the two numbers\n",
        "product = num1 * num2\n",
        "\n",
        "# Print out the product with appropriate labeling\n",
        "print(f\"The product of {num1} and {num2} is: {product}\")\n"
      ],
      "metadata": {
        "colab": {
          "base_uri": "https://localhost:8080/"
        },
        "id": "Ak3gCThdAtXm",
        "outputId": "949df01b-09d9-4e74-ebc4-a3434905f5d0"
      },
      "execution_count": 16,
      "outputs": [
        {
          "output_type": "stream",
          "name": "stdout",
          "text": [
            "Enter the first number: 50\n",
            "Enter the second number: 70\n",
            "The product of 50.0 and 70.0 is: 3500.0\n"
          ]
        }
      ]
    },
    {
      "cell_type": "markdown",
      "source": [
        "9) Complete the code for the following function so it matches its documentation:\n",
        "def doubleList(numberList):\n",
        "For each of the numbers in the list numberList, print a line containing twice the original\n",
        "number. For example,\n",
        "doubleList ([3, 1, 5]) would print 6, 2, 10"
      ],
      "metadata": {
        "id": "SCcDKl7tBEbW"
      }
    },
    {
      "cell_type": "code",
      "source": [
        "def doubleList(numberList):\n",
        "    # Iterate through each number in the list\n",
        "    for number in numberList:\n",
        "        # Print twice the original number\n",
        "        print(number * 2)\n",
        "\n",
        "# Example usage\n",
        "doubleList([3, 1, 5])\n"
      ],
      "metadata": {
        "colab": {
          "base_uri": "https://localhost:8080/"
        },
        "id": "Q6fjfRsABFUD",
        "outputId": "0a3e5c10-ac16-4e2d-a61c-e074698628e6"
      },
      "execution_count": 17,
      "outputs": [
        {
          "output_type": "stream",
          "name": "stdout",
          "text": [
            "6\n",
            "2\n",
            "10\n"
          ]
        }
      ]
    }
  ]
}